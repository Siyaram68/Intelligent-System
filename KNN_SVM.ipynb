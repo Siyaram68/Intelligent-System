Using KNN
import pandas as pd
import numpy as np
from sklearn import linear_model
import matplotlib.pyplot as plt
from sklearn.tree import DecisionTreeRegressor
from sklearn.model_selection import train_test_split
from sklearn import metrics
from sklearn.svm import SVC
df = pd.read_csv("bill_authentication.csv")
df.head()
X = df.drop('Class', axis=1)
y = df['Class']
from sklearn.neighbors import KNeighborsClassifier
X_train, X_test, y_train, y_test = train_test_split(X, y, train_size=0.25, random_state=30)
knn4=KNeighborsClassifier(n_neighbors=7)
knn4.fit(X_train,y_train)
from sklearn.neighbors import KNeighborsClassifier
X_train, X_test, y_train, y_test = train_test_split(X, y, train_size=0.25, random_state=30)
knn4=KNeighborsClassifier(n_neighbors=5)
knn4.fit(X_train,y_train)
y_pred =knn4.predict(X_test)
accuracy = metrics.accuracy_score(y_test, y_pred)
print(accuracy)
print("RMSE:",metrics.mean_absolute_error(y_test,y_pred))
print("MSE:",metrics.mean_squared_error(y_test,y_pred))
np.sqrt(metrics.mean_squared_error(y_test,y_pred))
Using SVM
model = SVC(kernel="linear", random_state=10)
model.fit(X_train, y_train)
y_pred = model.predict(X_test)
accuracy = metrics.accuracy_score(y_test, y_pred)
precision = metrics.precision_score(y_test, y_pred)
print(f"The accuracy of SVM model is {accuracy*100} % and precision {precision*100} %")
